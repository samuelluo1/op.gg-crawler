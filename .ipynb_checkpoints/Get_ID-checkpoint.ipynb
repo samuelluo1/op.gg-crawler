{
 "cells": [
  {
   "cell_type": "code",
   "execution_count": 1,
   "metadata": {},
   "outputs": [],
   "source": [
    "import requests\n",
    "from bs4 import BeautifulSoup"
   ]
  },
  {
   "cell_type": "code",
   "execution_count": 2,
   "metadata": {},
   "outputs": [],
   "source": [
    "# Get leaderboard's ID\n",
    "# region(0:KR, 1:NA, 2:EUW, 3:EUNE)\n",
    "# page(1 page for 100 summoners)\n",
    "def get_ID(region:int, page:int)->list:\n",
    "    container = []\n",
    "    soup = BeautifulSoup(requests.get(f\"https://{['www', 'na', 'euw', 'eune'][region]}.op.gg/ranking/ladder/page={str(page)}\").text,\n",
    "                         \"html.parser\")      \n",
    "    if page == 1:\n",
    "        container = [i.text for i in soup.find_all(\"a\", class_=\"ranking-highest__name\")]\n",
    "    return container + [i.text for i in soup.find_all(\"td\", class_=\"select_summoner ranking-table__cell ranking-table__cell--summoner\")]"
   ]
  },
  {
   "cell_type": "code",
   "execution_count": 3,
   "metadata": {},
   "outputs": [
    {
     "data": {
      "text/plain": [
       "['T1 BurdoI',\n",
       " 'DWG ShowMaker',\n",
       " '시간은또금세흘러',\n",
       " '개똥벌레a',\n",
       " '소나잔나',\n",
       " 'KT Malrang',\n",
       " 'wuhudsm',\n",
       " 'showmakerzzz',\n",
       " 'owoowoowoowoowo',\n",
       " '원딜 왕자 이채환',\n",
       " 'KzcXaz',\n",
       " 'SPG Zzus',\n",
       " 'T1 Gumayusi',\n",
       " '요붕스1',\n",
       " 'K T',\n",
       " '타 잔',\n",
       " 'Twitch Tv 헤돈',\n",
       " 'wohennangu0',\n",
       " 'Destiny',\n",
       " '모두모두행복하길',\n",
       " 'DWG Canyon',\n",
       " '사람이름이윤용호',\n",
       " '쪼렙이다말로하자',\n",
       " 'UijU',\n",
       " 'KT Ucal',\n",
       " 'py188',\n",
       " '오뚜기3분미트볼',\n",
       " '한화 큐베',\n",
       " 'black svvan',\n",
       " 'msblmktmsmsy',\n",
       " 'deokdam',\n",
       " 'T1 Kuri',\n",
       " 'HLE Viper',\n",
       " 'zwhy',\n",
       " 'JUGKlNG',\n",
       " '사 용 수',\n",
       " '미쳐놈',\n",
       " 'krats aira',\n",
       " 'Babe G',\n",
       " 'JG NO CJ xxx',\n",
       " '쭌 베',\n",
       " '손연우 사랑해',\n",
       " 'xxxxxxx1',\n",
       " 'Lehends',\n",
       " 'W9L22',\n",
       " 'Dread00',\n",
       " 'qwetyz',\n",
       " 'Mango Fish',\n",
       " 'Iove galio',\n",
       " 'zyzyzyzyzy',\n",
       " 'arrowIoI',\n",
       " 'YeXiangLun',\n",
       " '아이러니',\n",
       " 'FPXzhaoUP4506303',\n",
       " '카게게',\n",
       " 'DYN Kuzan1',\n",
       " 'SANDBOX Leo',\n",
       " 'hfdidi',\n",
       " 'Aprox',\n",
       " 'I still remember',\n",
       " 'T1 제우스',\n",
       " '98kgame095',\n",
       " 'Swordart777',\n",
       " 'ZED99',\n",
       " 'DWG BeryL',\n",
       " 'mogubaby',\n",
       " 'MAI WAY',\n",
       " 'motiongggggggggg',\n",
       " 'xunxunxun',\n",
       " '진정한 쾌락',\n",
       " 'IIrrooGG',\n",
       " '부자되자부자되자',\n",
       " 'feng ji xu chui',\n",
       " 'Gen G Kellin',\n",
       " '걸렸다 내정체',\n",
       " 'xbfzcgbbmls',\n",
       " '김구거',\n",
       " '주먹밥쿵야1',\n",
       " 'xasfsdwqewq',\n",
       " '진에어 잔디',\n",
       " 'quaddd',\n",
       " '미북이',\n",
       " 'Heart',\n",
       " 'SANDBOX Lonely',\n",
       " 'Laht',\n",
       " 'Hide on bush',\n",
       " '단군의청춘부재',\n",
       " '저승용호야',\n",
       " 'lIIIllIlIIlIlIll',\n",
       " 'Peach1119',\n",
       " '백수넛',\n",
       " 'whisper snow',\n",
       " 'supupsupupsupup',\n",
       " '김도칠',\n",
       " '따봉 람머스',\n",
       " 'Luuren',\n",
       " '크로꼬',\n",
       " '팀개못하면누누함',\n",
       " 'Vlbra',\n",
       " 'FPXzhaoAP4506303']"
      ]
     },
     "execution_count": 3,
     "metadata": {},
     "output_type": "execute_result"
    }
   ],
   "source": [
    "get_ID(0, 1)"
   ]
  },
  {
   "cell_type": "code",
   "execution_count": null,
   "metadata": {},
   "outputs": [],
   "source": []
  }
 ],
 "metadata": {
  "kernelspec": {
   "display_name": "Python 3",
   "language": "python",
   "name": "python3"
  },
  "language_info": {
   "codemirror_mode": {
    "name": "ipython",
    "version": 3
   },
   "file_extension": ".py",
   "mimetype": "text/x-python",
   "name": "python",
   "nbconvert_exporter": "python",
   "pygments_lexer": "ipython3",
   "version": "3.7.6"
  }
 },
 "nbformat": 4,
 "nbformat_minor": 4
}
